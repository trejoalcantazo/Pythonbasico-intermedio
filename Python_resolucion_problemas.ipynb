{
  "nbformat": 4,
  "nbformat_minor": 0,
  "metadata": {
    "colab": {
      "provenance": [],
      "authorship_tag": "ABX9TyOFRUNJMXX8DBqG2VKKP464",
      "include_colab_link": true
    },
    "kernelspec": {
      "name": "python3",
      "display_name": "Python 3"
    },
    "language_info": {
      "name": "python"
    }
  },
  "cells": [
    {
      "cell_type": "markdown",
      "metadata": {
        "id": "view-in-github",
        "colab_type": "text"
      },
      "source": [
        "<a href=\"https://colab.research.google.com/github/trejoalcantazo/Pythonbasico-intermedio/blob/main/Python_resolucion_problemas.ipynb\" target=\"_parent\"><img src=\"https://colab.research.google.com/assets/colab-badge.svg\" alt=\"Open In Colab\"/></a>"
      ]
    },
    {
      "cell_type": "markdown",
      "source": [
        "#Ejercicios de Tipos de Datos Simples"
      ],
      "metadata": {
        "id": "Wjf0h4SKP0yB"
      }
    },
    {
      "cell_type": "code",
      "execution_count": 11,
      "metadata": {
        "colab": {
          "base_uri": "https://localhost:8080/"
        },
        "id": "Gnbz9u3MPvMX",
        "outputId": "d4fe5a8f-7022-4845-b0cd-1c25f32e8392"
      },
      "outputs": [
        {
          "output_type": "stream",
          "name": "stdout",
          "text": [
            "Hola visitante de github!\n"
          ]
        }
      ],
      "source": [
        "print(\"Hola visitante de github!\")"
      ]
    },
    {
      "cell_type": "code",
      "source": [
        "# variable con txto\n",
        "m = \"Practica y sigue practicando\"\n",
        "print(m)"
      ],
      "metadata": {
        "colab": {
          "base_uri": "https://localhost:8080/"
        },
        "id": "8sgh2ECqQFcL",
        "outputId": "6997e97a-1dae-448c-dc1b-a84bbd0a7840"
      },
      "execution_count": 12,
      "outputs": [
        {
          "output_type": "stream",
          "name": "stdout",
          "text": [
            "Practica y sigue practicando\n"
          ]
        }
      ]
    },
    {
      "cell_type": "code",
      "source": [
        "#input output\n",
        "tucomidafavorita = input(\"cual es tu platillo favorito?: \")\n",
        "print(tucomidafavorita, \"es tu comida favorita!, pero no la mia..diug.\")"
      ],
      "metadata": {
        "colab": {
          "base_uri": "https://localhost:8080/"
        },
        "id": "56R_yah7QXst",
        "outputId": "16c1442e-d788-4de7-f0dc-4ce59be5aaa4"
      },
      "execution_count": 13,
      "outputs": [
        {
          "output_type": "stream",
          "name": "stdout",
          "text": [
            "cual es tu platillo favorito?: fideo\n",
            "fideo es tu comida favorita!, pero no la mia..diug.\n"
          ]
        }
      ]
    },
    {
      "cell_type": "code",
      "source": [
        "# operacion aritmetica\n",
        "print( ((2+3) / (5*2))**2 )"
      ],
      "metadata": {
        "colab": {
          "base_uri": "https://localhost:8080/"
        },
        "id": "BH3yn6E7REhf",
        "outputId": "18194cf7-f0c9-4f31-8f14-2674f52ec189"
      },
      "execution_count": 10,
      "outputs": [
        {
          "output_type": "stream",
          "name": "stdout",
          "text": [
            "0.25\n"
          ]
        }
      ]
    },
    {
      "cell_type": "code",
      "source": [
        "#Bono fin de mes utopico\n",
        "horas_extra = float(input(\"¿cuantas horas extra trabajaste este mes?: \"))\n",
        "cobro = float(input(\"¿cuanto dinero deseas obtener por hora extra trabajada?: \"))\n",
        "bono = horas_extra * cobro\n",
        "print (\"tu bono será de: \",bono,\"\\nEsperamos verte reecargado de energia el mes siguiente!\")"
      ],
      "metadata": {
        "colab": {
          "base_uri": "https://localhost:8080/"
        },
        "id": "ivuc7t0jS3Et",
        "outputId": "cf66cc7b-ab88-4673-ec07-c8aaaa09b080"
      },
      "execution_count": 19,
      "outputs": [
        {
          "output_type": "stream",
          "name": "stdout",
          "text": [
            "¿cuantas horas extra trabajaste este mes?: 20\n",
            "¿cuanto dinero deseas obtener por hora extra trabajada?: 300\n",
            "tu bono será de:  6000.0 \n",
            "Esperamos verte reecargado de energia el mes siguiente!\n"
          ]
        }
      ]
    },
    {
      "cell_type": "code",
      "source": [
        "# ejercicio\n",
        "x = int(input(\"Introduce un numero: \"))\n",
        "suma = x * (x + 1) / 2\n",
        "print(\"la suma de los primeros numeros enteros desde 1 hasta \" + str(x) + \" es \" + str(suma))\n"
      ],
      "metadata": {
        "colab": {
          "base_uri": "https://localhost:8080/"
        },
        "id": "2gJfQYAMUool",
        "outputId": "cd04ac2f-9fe0-49e6-fc93-a1a74c27dd97"
      },
      "execution_count": 21,
      "outputs": [
        {
          "output_type": "stream",
          "name": "stdout",
          "text": [
            "Introduce un numero: 20\n",
            "la suma de los primeros numeros enteros desde 1 hasta 20 es 210.0\n"
          ]
        }
      ]
    }
  ]
}